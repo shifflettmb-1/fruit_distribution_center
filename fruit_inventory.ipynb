{
 "cells": [
  {
   "cell_type": "markdown",
   "id": "fefae81e",
   "metadata": {},
   "source": [
    "#2\n",
    "The purpose of this notebook is to manage fruit data.\n",
    "The tasks we will need to complete as a team are to:\n",
    "- Define fruit tuples\n",
    "- Store and update fruit details with dictionaries\n",
    "- Track out-of-stock fruits with sets\n",
    "- Adjust pricing"
   ]
  },
  {
   "cell_type": "code",
   "execution_count": 3,
   "id": "1b024101",
   "metadata": {},
   "outputs": [
    {
     "name": "stdout",
     "output_type": "stream",
     "text": [
      "('apples', 'bananas', 'cherries', 'oranges', 'blueberries')\n"
     ]
    }
   ],
   "source": [
    "# 3\n",
    "fruit_batch = (\"apples\", \"bananas\", \"cherries\", \"oranges\", \"blueberries\")\n",
    "print(fruit_batch)"
   ]
  }
 ],
 "metadata": {
  "kernelspec": {
   "display_name": "base",
   "language": "python",
   "name": "python3"
  },
  "language_info": {
   "codemirror_mode": {
    "name": "ipython",
    "version": 3
   },
   "file_extension": ".py",
   "mimetype": "text/x-python",
   "name": "python",
   "nbconvert_exporter": "python",
   "pygments_lexer": "ipython3",
   "version": "3.13.5"
  }
 },
 "nbformat": 4,
 "nbformat_minor": 5
}
