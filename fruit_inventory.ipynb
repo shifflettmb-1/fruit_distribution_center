{
 "cells": [
  {
   "cell_type": "code",
   "execution_count": null,
   "id": "450fe5b2",
   "metadata": {},
   "outputs": [],
   "source": [
    "#delete this"
   ]
  }
 ],
 "metadata": {
  "language_info": {
   "name": "python"
  }
 },
 "nbformat": 4,
 "nbformat_minor": 5
}
