{
 "cells": [
  {
   "cell_type": "markdown",
   "id": "fefae81e",
   "metadata": {},
   "source": [
    "#2\n",
    "The purpose of this notebook is to manage fruit data.\n",
    "The tasks we will need to complete as a team are to:\n",
    "- Define fruit tuples\n",
    "- Store and update fruit details with dictionaries\n",
    "- Track out-of-stock fruits with sets\n",
    "- Adjust pricing"
   ]
  },
  {
   "cell_type": "code",
   "execution_count": 1,
   "id": "1b024101",
   "metadata": {},
   "outputs": [
    {
     "name": "stdout",
     "output_type": "stream",
     "text": [
      "('apples', 'bananas', 'cherries', 'oranges', 'blueberries')\n",
      "{'apples': {'prices_per_lb': 2.5, 'color': 'red', 'in_stock': True, 'expired': False}, 'bananas': {'prices_per_lb': 1.2, 'color': 'yellow', 'in_stock': True, 'expired': False}, 'cherries': {'prices_per_lb': 4.5, 'color': 'dark-red', 'in_stock': False, 'expired': True}, 'oranges': {'prices_per_lb': 3.5, 'color': 'orange', 'in_stock': True, 'expired': False}, 'blueberries': {'prices_per_lb': 4.2, 'color': 'blue', 'in_stock': False, 'expired': True}}\n"
     ]
    }
   ],
   "source": [
    "# 3\n",
    "fruit_batch = (\"apples\", \"bananas\", \"cherries\", \"oranges\", \"blueberries\")\n",
    "print(fruit_batch)\n",
    "\n",
    "#4\n",
    "fruit_details = {\n",
    "    \"apples\": {\"prices_per_lb\": 2.5, \"color\": \"red\", \"in_stock\": True, \"expired\": False},\n",
    "    \"bananas\": {\"prices_per_lb\": 1.2, \"color\": \"yellow\", \"in_stock\": True, \"expired\": False},\n",
    "    \"cherries\": {\"prices_per_lb\": 4.5, \"color\": \"dark-red\", \"in_stock\": False, \"expired\": True},\n",
    "    \"oranges\": {\"prices_per_lb\": 3.5, \"color\": \"orange\", \"in_stock\": True, \"expired\": False},\n",
    "    \"blueberries\": {\"prices_per_lb\": 4.2, \"color\": \"blue\", \"in_stock\": False, \"expired\": True}\n",
    "    }\n",
    "print(fruit_details)"
   ]
  }
 ],
 "metadata": {
  "kernelspec": {
   "display_name": "base",
   "language": "python",
   "name": "python3"
  },
  "language_info": {
   "codemirror_mode": {
    "name": "ipython",
    "version": 3
   },
   "file_extension": ".py",
   "mimetype": "text/x-python",
   "name": "python",
   "nbconvert_exporter": "python",
   "pygments_lexer": "ipython3",
   "version": "3.13.5"
  }
 },
 "nbformat": 4,
 "nbformat_minor": 5
}
